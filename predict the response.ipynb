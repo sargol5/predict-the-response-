{
 "cells": [
  {
   "cell_type": "markdown",
   "id": "2109f022",
   "metadata": {},
   "source": [
    "# Predict the response for test dataset"
   ]
  },
  {
   "cell_type": "code",
   "execution_count": 43,
   "id": "8144e562",
   "metadata": {},
   "outputs": [],
   "source": [
    "import numpy as np\n",
    "import pandas as pd\n",
    "from sklearn.datasets import load_svmlight_file"
   ]
  },
  {
   "cell_type": "markdown",
   "id": "1b35b80e",
   "metadata": {},
   "source": [
    "## Loading \"train.txt\", \"test.text\" libSVM file"
   ]
  },
  {
   "cell_type": "code",
   "execution_count": 44,
   "id": "591678c6",
   "metadata": {},
   "outputs": [],
   "source": [
    "df=pd.read_csv('desktop/train.csv')\n",
    "d=pd.read_csv('desktop/test.csv')\n",
    "X_train, y_train = load_svmlight_file(\"desktop/train.txt\")\n",
    "X_test, Y_test= load_svmlight_file(\"desktop/test.txt\")"
   ]
  },
  {
   "cell_type": "markdown",
   "id": "c987ad1c",
   "metadata": {},
   "source": [
    "## Creating dataframe 'X' and 'Y'"
   ]
  },
  {
   "cell_type": "code",
   "execution_count": 45,
   "id": "4b9f9eb6",
   "metadata": {},
   "outputs": [],
   "source": [
    "import scipy.sparse\n",
    "X = pd.DataFrame.sparse.from_spmatrix(X_train)\n",
    "Y = pd.DataFrame(y_train)"
   ]
  },
  {
   "cell_type": "code",
   "execution_count": 46,
   "id": "e9d50950",
   "metadata": {},
   "outputs": [
    {
     "name": "stdout",
     "output_type": "stream",
     "text": [
      "<class 'pandas.core.frame.DataFrame'>\n",
      "RangeIndex: 3121 entries, 0 to 3120\n",
      "Data columns (total 1 columns):\n",
      " #   Column  Non-Null Count  Dtype  \n",
      "---  ------  --------------  -----  \n",
      " 0   0       3121 non-null   float64\n",
      "dtypes: float64(1)\n",
      "memory usage: 24.5 KB\n"
     ]
    }
   ],
   "source": [
    "Y.info()"
   ]
  },
  {
   "cell_type": "markdown",
   "id": "0512bbe1",
   "metadata": {},
   "source": [
    "## Converting X datatype"
   ]
  },
  {
   "cell_type": "code",
   "execution_count": 22,
   "id": "a1ce2785",
   "metadata": {},
   "outputs": [
    {
     "name": "stdout",
     "output_type": "stream",
     "text": [
      "<class 'pandas.core.frame.DataFrame'>\n",
      "RangeIndex: 3121 entries, 0 to 3120\n",
      "Data columns (total 54 columns):\n",
      " #   Column  Non-Null Count  Dtype  \n",
      "---  ------  --------------  -----  \n",
      " 0   0       3121 non-null   float64\n",
      " 1   1       3121 non-null   float64\n",
      " 2   2       3121 non-null   float64\n",
      " 3   3       3121 non-null   float64\n",
      " 4   4       3121 non-null   float64\n",
      " 5   5       3121 non-null   float64\n",
      " 6   6       3121 non-null   float64\n",
      " 7   7       3121 non-null   float64\n",
      " 8   8       3121 non-null   float64\n",
      " 9   9       3121 non-null   float64\n",
      " 10  10      3121 non-null   float64\n",
      " 11  11      3121 non-null   float64\n",
      " 12  12      3121 non-null   float64\n",
      " 13  13      3121 non-null   float64\n",
      " 14  14      3121 non-null   float64\n",
      " 15  15      3121 non-null   float64\n",
      " 16  16      3121 non-null   float64\n",
      " 17  17      3121 non-null   float64\n",
      " 18  18      3121 non-null   float64\n",
      " 19  19      3121 non-null   float64\n",
      " 20  20      3121 non-null   float64\n",
      " 21  21      3121 non-null   float64\n",
      " 22  22      3121 non-null   float64\n",
      " 23  23      3121 non-null   float64\n",
      " 24  24      3121 non-null   float64\n",
      " 25  25      3121 non-null   float64\n",
      " 26  26      3121 non-null   float64\n",
      " 27  27      3121 non-null   float64\n",
      " 28  28      3121 non-null   float64\n",
      " 29  29      3121 non-null   float64\n",
      " 30  30      3121 non-null   float64\n",
      " 31  31      3121 non-null   float64\n",
      " 32  32      3121 non-null   float64\n",
      " 33  33      3121 non-null   float64\n",
      " 34  34      3121 non-null   float64\n",
      " 35  35      3121 non-null   float64\n",
      " 36  36      3121 non-null   float64\n",
      " 37  37      3121 non-null   float64\n",
      " 38  38      3121 non-null   float64\n",
      " 39  39      3121 non-null   float64\n",
      " 40  40      3121 non-null   float64\n",
      " 41  41      3121 non-null   float64\n",
      " 42  42      3121 non-null   float64\n",
      " 43  43      3121 non-null   float64\n",
      " 44  44      3121 non-null   float64\n",
      " 45  45      3121 non-null   float64\n",
      " 46  46      3121 non-null   float64\n",
      " 47  47      3121 non-null   float64\n",
      " 48  48      3121 non-null   float64\n",
      " 49  49      3121 non-null   float64\n",
      " 50  50      3121 non-null   float64\n",
      " 51  51      3121 non-null   float64\n",
      " 52  52      3121 non-null   float64\n",
      " 53  53      3121 non-null   float64\n",
      "dtypes: float64(54)\n",
      "memory usage: 1.3 MB\n"
     ]
    }
   ],
   "source": [
    "X = X.sparse.to_dense()\n",
    "X = X.astype(np.float64)\n",
    "X.info()"
   ]
  },
  {
   "cell_type": "markdown",
   "id": "39ca966c",
   "metadata": {},
   "source": [
    "## Check null values"
   ]
  },
  {
   "cell_type": "code",
   "execution_count": 47,
   "id": "73fb3c84",
   "metadata": {},
   "outputs": [
    {
     "name": "stdout",
     "output_type": "stream",
     "text": [
      "Missing values for X:\n",
      " 0     0\n",
      "1     0\n",
      "2     0\n",
      "3     0\n",
      "4     0\n",
      "5     0\n",
      "6     0\n",
      "7     0\n",
      "8     0\n",
      "9     0\n",
      "10    0\n",
      "11    0\n",
      "12    0\n",
      "13    0\n",
      "14    0\n",
      "15    0\n",
      "16    0\n",
      "17    0\n",
      "18    0\n",
      "19    0\n",
      "20    0\n",
      "21    0\n",
      "22    0\n",
      "23    0\n",
      "24    0\n",
      "25    0\n",
      "26    0\n",
      "27    0\n",
      "28    0\n",
      "29    0\n",
      "30    0\n",
      "31    0\n",
      "32    0\n",
      "33    0\n",
      "34    0\n",
      "35    0\n",
      "36    0\n",
      "37    0\n",
      "38    0\n",
      "39    0\n",
      "40    0\n",
      "41    0\n",
      "42    0\n",
      "43    0\n",
      "44    0\n",
      "45    0\n",
      "46    0\n",
      "47    0\n",
      "48    0\n",
      "49    0\n",
      "50    0\n",
      "51    0\n",
      "52    0\n",
      "53    0\n",
      "dtype: int64\n",
      "Missing values for y:\n",
      " 0    0\n",
      "dtype: int64\n"
     ]
    }
   ],
   "source": [
    "print(\"Missing values for X:\\n\", X.isna().sum())\n",
    "print(\"Missing values for y:\\n\", y.isna().sum())"
   ]
  },
  {
   "cell_type": "markdown",
   "id": "16011394",
   "metadata": {},
   "source": [
    "## Transforming data to numpy array"
   ]
  },
  {
   "cell_type": "code",
   "execution_count": 48,
   "id": "a01e93e5",
   "metadata": {},
   "outputs": [],
   "source": [
    "X_train2 = X.to_numpy()\n",
    "y_train2 = y.to_numpy()"
   ]
  },
  {
   "cell_type": "markdown",
   "id": "1bce38ad",
   "metadata": {},
   "source": [
    "## Scaling the data"
   ]
  },
  {
   "cell_type": "code",
   "execution_count": 49,
   "id": "f2609c43",
   "metadata": {},
   "outputs": [],
   "source": [
    "from sklearn.preprocessing import StandardScaler\n",
    "sc = StandardScaler()\n",
    "X_train2 = sc.fit_transform(X_train2)"
   ]
  },
  {
   "cell_type": "markdown",
   "id": "3cfeec6a",
   "metadata": {},
   "source": [
    "## Checking for imbalanced data"
   ]
  },
  {
   "cell_type": "code",
   "execution_count": 50,
   "id": "4b6e7348",
   "metadata": {},
   "outputs": [],
   "source": [
    "freq = np.unique(y_train2,return_counts=True)\n",
    "y_train2 = y_train.ravel()"
   ]
  },
  {
   "cell_type": "code",
   "execution_count": 51,
   "id": "a5ed0a42",
   "metadata": {},
   "outputs": [],
   "source": [
    "import scipy.sparse\n",
    "X_test2 = pd.DataFrame.sparse.from_spmatrix(X_test)"
   ]
  },
  {
   "cell_type": "markdown",
   "id": "d5445ffa",
   "metadata": {},
   "source": [
    "## Converting X_test datatype to the same as y_test"
   ]
  },
  {
   "cell_type": "code",
   "execution_count": 52,
   "id": "d1f5d840",
   "metadata": {},
   "outputs": [
    {
     "name": "stdout",
     "output_type": "stream",
     "text": [
      "<class 'pandas.core.frame.DataFrame'>\n",
      "RangeIndex: 660 entries, 0 to 659\n",
      "Data columns (total 54 columns):\n",
      " #   Column  Non-Null Count  Dtype  \n",
      "---  ------  --------------  -----  \n",
      " 0   0       660 non-null    float64\n",
      " 1   1       660 non-null    float64\n",
      " 2   2       660 non-null    float64\n",
      " 3   3       660 non-null    float64\n",
      " 4   4       660 non-null    float64\n",
      " 5   5       660 non-null    float64\n",
      " 6   6       660 non-null    float64\n",
      " 7   7       660 non-null    float64\n",
      " 8   8       660 non-null    float64\n",
      " 9   9       660 non-null    float64\n",
      " 10  10      660 non-null    float64\n",
      " 11  11      660 non-null    float64\n",
      " 12  12      660 non-null    float64\n",
      " 13  13      660 non-null    float64\n",
      " 14  14      660 non-null    float64\n",
      " 15  15      660 non-null    float64\n",
      " 16  16      660 non-null    float64\n",
      " 17  17      660 non-null    float64\n",
      " 18  18      660 non-null    float64\n",
      " 19  19      660 non-null    float64\n",
      " 20  20      660 non-null    float64\n",
      " 21  21      660 non-null    float64\n",
      " 22  22      660 non-null    float64\n",
      " 23  23      660 non-null    float64\n",
      " 24  24      660 non-null    float64\n",
      " 25  25      660 non-null    float64\n",
      " 26  26      660 non-null    float64\n",
      " 27  27      660 non-null    float64\n",
      " 28  28      660 non-null    float64\n",
      " 29  29      660 non-null    float64\n",
      " 30  30      660 non-null    float64\n",
      " 31  31      660 non-null    float64\n",
      " 32  32      660 non-null    float64\n",
      " 33  33      660 non-null    float64\n",
      " 34  34      660 non-null    float64\n",
      " 35  35      660 non-null    float64\n",
      " 36  36      660 non-null    float64\n",
      " 37  37      660 non-null    float64\n",
      " 38  38      660 non-null    float64\n",
      " 39  39      660 non-null    float64\n",
      " 40  40      660 non-null    float64\n",
      " 41  41      660 non-null    float64\n",
      " 42  42      660 non-null    float64\n",
      " 43  43      660 non-null    float64\n",
      " 44  44      660 non-null    float64\n",
      " 45  45      660 non-null    float64\n",
      " 46  46      660 non-null    float64\n",
      " 47  47      660 non-null    float64\n",
      " 48  48      660 non-null    float64\n",
      " 49  49      660 non-null    float64\n",
      " 50  50      660 non-null    float64\n",
      " 51  51      660 non-null    float64\n",
      " 52  52      660 non-null    float64\n",
      " 53  53      660 non-null    float64\n",
      "dtypes: float64(54)\n",
      "memory usage: 278.6 KB\n"
     ]
    }
   ],
   "source": [
    "X_test2 = X_test2.sparse.to_dense()\n",
    "X_test2 = X_test2.astype(np.float64)\n",
    "X_test2.info()"
   ]
  },
  {
   "cell_type": "markdown",
   "id": "55a3c062",
   "metadata": {},
   "source": [
    "## Transforming data to numpy array and scaling the test data"
   ]
  },
  {
   "cell_type": "code",
   "execution_count": 53,
   "id": "d3b583b4",
   "metadata": {},
   "outputs": [],
   "source": [
    "X_test2 = X_test2.to_numpy()\n",
    "X_test2 = sc.transform(X_test2)"
   ]
  },
  {
   "cell_type": "markdown",
   "id": "829fac62",
   "metadata": {},
   "source": [
    "## Navie Bayes Classifier"
   ]
  },
  {
   "cell_type": "code",
   "execution_count": 54,
   "id": "ad44ad89",
   "metadata": {},
   "outputs": [
    {
     "data": {
      "text/plain": [
       "GaussianNB()"
      ]
     },
     "execution_count": 54,
     "metadata": {},
     "output_type": "execute_result"
    }
   ],
   "source": [
    "# Import the Navie Bayes classifier\n",
    "from sklearn.naive_bayes import GaussianNB\n",
    "# Create Navie Bayes classifer object\n",
    "classifier = GaussianNB()\n",
    "# Train Navie Bayes Classifer\n",
    "classifier.fit(X_train2,y_train2)"
   ]
  },
  {
   "cell_type": "markdown",
   "id": "2fd6cc8d",
   "metadata": {},
   "source": [
    "## Predict the response for test dataset"
   ]
  },
  {
   "cell_type": "code",
   "execution_count": 55,
   "id": "978befd0",
   "metadata": {},
   "outputs": [],
   "source": [
    "df_y_pred = classifier.predict(X_test2)"
   ]
  },
  {
   "cell_type": "markdown",
   "id": "cae91e07",
   "metadata": {},
   "source": [
    "## check the accuracy "
   ]
  },
  {
   "cell_type": "code",
   "execution_count": 56,
   "id": "65b4ffee",
   "metadata": {},
   "outputs": [
    {
     "name": "stdout",
     "output_type": "stream",
     "text": [
      "Confusion Matrix:\n",
      "[[536 124]\n",
      " [  0   0]]\n",
      "Accuracy Score:\n"
     ]
    },
    {
     "data": {
      "text/plain": [
       "0.8121212121212121"
      ]
     },
     "execution_count": 56,
     "metadata": {},
     "output_type": "execute_result"
    }
   ],
   "source": [
    "#Show the Confusion Matrix\n",
    "from sklearn.metrics import confusion_matrix, accuracy_score, classification_report\n",
    "cm = confusion_matrix(Y_test,df_y_pred)\n",
    "print('Confusion Matrix:')\n",
    "print(cm)\n",
    "print('Accuracy Score:')\n",
    "accuracy_score(Y_test,df_y_pred)"
   ]
  },
  {
   "cell_type": "code",
   "execution_count": 57,
   "id": "5d300b81",
   "metadata": {},
   "outputs": [
    {
     "name": "stdout",
     "output_type": "stream",
     "text": [
      "<class 'numpy.ndarray'>\n"
     ]
    }
   ],
   "source": [
    "print(type(df_y_pred))"
   ]
  },
  {
   "cell_type": "code",
   "execution_count": 58,
   "id": "62b7a762",
   "metadata": {},
   "outputs": [],
   "source": [
    "df_y_pred = pd.DataFrame(df_y_pred)"
   ]
  },
  {
   "cell_type": "markdown",
   "id": "b7bd32b1",
   "metadata": {},
   "source": [
    "## print the output in out.csv"
   ]
  },
  {
   "cell_type": "code",
   "execution_count": 59,
   "id": "71d03a61",
   "metadata": {},
   "outputs": [],
   "source": [
    "df_y_pred.to_csv(\"desktop/out.csv\")"
   ]
  },
  {
   "cell_type": "code",
   "execution_count": null,
   "id": "0e8d28c2",
   "metadata": {},
   "outputs": [],
   "source": []
  }
 ],
 "metadata": {
  "kernelspec": {
   "display_name": "Python 3 (ipykernel)",
   "language": "python",
   "name": "python3"
  },
  "language_info": {
   "codemirror_mode": {
    "name": "ipython",
    "version": 3
   },
   "file_extension": ".py",
   "mimetype": "text/x-python",
   "name": "python",
   "nbconvert_exporter": "python",
   "pygments_lexer": "ipython3",
   "version": "3.9.7"
  }
 },
 "nbformat": 4,
 "nbformat_minor": 5
}
